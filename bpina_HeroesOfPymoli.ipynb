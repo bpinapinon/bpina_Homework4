{
 "cells": [
  {
   "cell_type": "markdown",
   "metadata": {},
   "source": [
    "# bpina_Homework4\n",
    "# Heroes Of Pymoli"
   ]
  },
  {
   "cell_type": "markdown",
   "metadata": {},
   "source": [
    "### Note\n",
    "* Instructions have been included for each segment. You do not have to follow them exactly, but they are included to help you think through the steps."
   ]
  },
  {
   "cell_type": "code",
   "execution_count": 1,
   "metadata": {},
   "outputs": [
    {
     "name": "stdout",
     "output_type": "stream",
     "text": [
      "   Purchase ID             SN  Age Gender  Item ID  \\\n",
      "0            0        Lisim78   20   Male      108   \n",
      "1            1    Lisovynya38   40   Male      143   \n",
      "2            2     Ithergue48   24   Male       92   \n",
      "3            3  Chamassasya86   24   Male      100   \n",
      "4            4      Iskosia90   23   Male      131   \n",
      "\n",
      "                                   Item Name  Price  \n",
      "0  Extraction, Quickblade Of Trembling Hands   3.53  \n",
      "1                          Frenzied Scimitar   1.56  \n",
      "2                               Final Critic   4.88  \n",
      "3                                Blindscythe   3.27  \n",
      "4                                       Fury   1.44  \n",
      "Index(['Purchase ID', 'SN', 'Age', 'Gender', 'Item ID', 'Item Name', 'Price'], dtype='object')\n"
     ]
    }
   ],
   "source": [
    "# Import Dependencies\n",
    "import pandas as pd \n",
    "import numpy as np \n",
    "import os\n",
    "import csv\n",
    "\n",
    "# Store file path in variable\n",
    "FilePath = \"Resources/purchase_data.csv\"\n",
    "\n",
    "# Use Pandas to read CSV and load into Data Frame\n",
    "DataFrame_Orig = pd.read_csv(FilePath)\n",
    "print(DataFrame_Orig.head())\n",
    "print(DataFrame_Orig.columns)\n",
    "# ['Purchase ID', 'SN', 'Age', 'Gender', 'Item ID', 'Item Name', 'Price']"
   ]
  },
  {
   "cell_type": "markdown",
   "metadata": {},
   "source": [
    "## Player Count"
   ]
  },
  {
   "cell_type": "markdown",
   "metadata": {},
   "source": [
    "* Display the total number of players\n"
   ]
  },
  {
   "cell_type": "code",
   "execution_count": 2,
   "metadata": {},
   "outputs": [
    {
     "name": "stdout",
     "output_type": "stream",
     "text": [
      "\n",
      "Total Number of Players = 576\n"
     ]
    }
   ],
   "source": [
    "### Player Count\n",
    "# * Total Number of Players\n",
    "CountPlayers = DataFrame_Orig[\"SN\"].nunique()\n",
    "print(f'\\nTotal Number of Players = {CountPlayers}')\n",
    "\n",
    "DF_CountPlayers = pd.DataFrame({\"Count of Players\" : [CountPlayers]})\n",
    "\n",
    "# Use Pandas to EXPORT CSV FILE as a csv file WITHOUT the Panda's Index WITH Header\n",
    "DF_CountPlayers.to_csv(\"Output/BP_output_CountPlayers.csv\" ,encoding = \"utf-8\", index = False , header = True)\n",
    "    "
   ]
  },
  {
   "cell_type": "markdown",
   "metadata": {},
   "source": [
    "## Purchasing Analysis (Total)"
   ]
  },
  {
   "cell_type": "markdown",
   "metadata": {},
   "source": [
    "* Run basic calculations to obtain number of unique items, average price, etc.\n",
    "\n",
    "\n",
    "* Create a summary data frame to hold the results\n",
    "\n",
    "\n",
    "* Optional: give the displayed data cleaner formatting\n",
    "\n",
    "\n",
    "* Display the summary data frame\n"
   ]
  },
  {
   "cell_type": "code",
   "execution_count": 3,
   "metadata": {
    "scrolled": true
   },
   "outputs": [
    {
     "name": "stdout",
     "output_type": "stream",
     "text": [
      "\n",
      "Summary:    Count of Unique Items  Average Purchase Price  Total Number of Purchases  \\\n",
      "0                    183                    3.05                        780   \n",
      "\n",
      "   Total Revenue  \n",
      "0        2379.77  \n"
     ]
    }
   ],
   "source": [
    "### Purchasing Analysis (Total)\n",
    "# * Number of Unique Items\n",
    "# * Average Purchase Price\n",
    "# * Total Number of Purchases\n",
    "# * Total Revenue\n",
    "\n",
    "# Unique Items\n",
    "DF_UniqueItems = DataFrame_Orig[\"Item ID\"].unique()\n",
    "CountUniqueItems = len(DF_UniqueItems)\n",
    "# print(f'\\nNumber of Unique Items: {CountUniqueItems}')\n",
    "\n",
    "# Average Purchase Price\n",
    "AveragePurchasePrice = round(DataFrame_Orig[\"Price\"].mean() , 2)\n",
    "# print(f'\\nAverage Purchase Price = ${AveragePurchasePrice}')\n",
    "\n",
    "# Total Number of Purchases\n",
    "CountTotalPurchases = DataFrame_Orig[\"Price\"].count()\n",
    "# print(f'\\nTotal Number of Purchases = {CountTotalPurchases}')\n",
    "\n",
    "# Total Revenue\n",
    "TotalRevenue = DataFrame_Orig[\"Price\"].sum()\n",
    "# print(f'\\nTotal Revenue = ${TotalRevenue}')\n",
    " \n",
    "# Summary Data Frame\n",
    "Summary_PurchasingAnalysis = pd.DataFrame({\"Count of Unique Items\"      : CountUniqueItems\n",
    "                                          ,\"Average Purchase Price\"     : [AveragePurchasePrice]\n",
    "                                          ,\"Total Number of Purchases\"  : [CountTotalPurchases]\n",
    "                                          ,\"Total Revenue\"              : [TotalRevenue]\n",
    "                                          })\n",
    "print(f'\\nSummary: {Summary_PurchasingAnalysis}')     \n",
    "\n",
    "# Use Pandas to EXPORT CSV FILE as a csv file WITHOUT the Panda's Index WITH Header\n",
    "Summary_PurchasingAnalysis.to_csv(\"Output/BP_output_PurchasingAnalysis.csv\" ,encoding = \"utf-8\", index = False , header = True)"
   ]
  },
  {
   "cell_type": "markdown",
   "metadata": {},
   "source": [
    "## Gender Demographics"
   ]
  },
  {
   "cell_type": "markdown",
   "metadata": {},
   "source": [
    "* Run basic calculations to obtain number of unique items, average price, etc.\n",
    "\n",
    "\n",
    "* Create a summary data frame to hold the results\n",
    "\n",
    "\n",
    "* Optional: give the displayed data cleaner formatting\n",
    "\n",
    "\n",
    "* Display the summary data frame\n"
   ]
  },
  {
   "cell_type": "code",
   "execution_count": 4,
   "metadata": {},
   "outputs": [
    {
     "name": "stdout",
     "output_type": "stream",
     "text": [
      "\n",
      "Summary:                        Gender Count  Gender Percentage\n",
      "Male                            652             113.19\n",
      "Female                          113              19.62\n",
      "Other / Non-Disclosed            15               2.60\n"
     ]
    }
   ],
   "source": [
    "### Gender Demographics\n",
    "# * Percentage and Count of Male Players\n",
    "# * Percentage and Count of Female Players\n",
    "# * Percentage and Count of Other / Non-Disclosed     \n",
    "\n",
    "GenderTotals = DataFrame_Orig[\"Gender\"].value_counts()\n",
    "# print(f'\\n{GenderTotals}')              \n",
    "\n",
    "GenderPercentages = round((GenderTotals / CountPlayers) * 100 , 2)\n",
    "\n",
    "# Summary Data Frame\n",
    "Summary_GenderTotals = pd.DataFrame({\"Gender Count\"      : GenderTotals\n",
    "                                    ,\"Gender Percentage\" : GenderPercentages\n",
    "                                    })\n",
    "print(f'\\nSummary: {Summary_GenderTotals}')                                \n",
    "\n",
    "# Use Pandas to EXPORT CSV FILE as a csv file WITHOUT the Panda's Index WITH Header\n",
    "Summary_GenderTotals.to_csv(\"Output/BP_output_GenderTotals.csv\" ,encoding = \"utf-8\", index = False , header = True)"
   ]
  },
  {
   "cell_type": "markdown",
   "metadata": {},
   "source": [
    "\n",
    "## Purchasing Analysis (Gender)"
   ]
  },
  {
   "cell_type": "markdown",
   "metadata": {},
   "source": [
    "* Run basic calculations to obtain purchase count, avg. purchase price, etc. by gender\n",
    "\n",
    "\n",
    "* For normalized purchasing, divide total purchase value by purchase count, by gender\n",
    "\n",
    "\n",
    "* Create a summary data frame to hold the results\n",
    "\n",
    "\n",
    "* Optional: give the displayed data cleaner formatting\n",
    "\n",
    "\n",
    "* Display the summary data frame"
   ]
  },
  {
   "cell_type": "code",
   "execution_count": 5,
   "metadata": {},
   "outputs": [
    {
     "name": "stdout",
     "output_type": "stream",
     "text": [
      "Summary:                       Gender Purchase Count Gender Avg Purchase Price  \\\n",
      "Gender                                                                  \n",
      "Female                                  113                     $3.20   \n",
      "Male                                    652                     $3.02   \n",
      "Other / Non-Disclosed                    15                     $3.35   \n",
      "\n",
      "                      Gender Total Purchase Value  \\\n",
      "Gender                                              \n",
      "Female                                    $361.94   \n",
      "Male                                    $1,967.64   \n",
      "Other / Non-Disclosed                      $50.19   \n",
      "\n",
      "                      Gender Avg Total Purchase/Person (Normalized)  \n",
      "Gender                                                               \n",
      "Female                                                        $3.20  \n",
      "Male                                                          $3.02  \n",
      "Other / Non-Disclosed                                         $3.35  \n"
     ]
    }
   ],
   "source": [
    "### Gender Purchasing Analysis \n",
    "# * The below each broken by gender\n",
    "#   * Purchase Count\n",
    "#   * Average Purchase Price\n",
    "#   * Total Purchase Value\n",
    "#   * Normalized Totals\n",
    "\n",
    "# Purchase Count\n",
    "GenderPurchaseCount = DataFrame_Orig.groupby([\"Gender\"]).count()[\"Price\"]\n",
    "GenderPurchaseCount = GenderPurchaseCount.rename(\"Gender Purchase Count\")\n",
    "# print(GenderPurchaseCount)\n",
    "\n",
    "# Average Purchase Price\n",
    "GenderAveragePurchase = round(DataFrame_Orig.groupby([\"Gender\"]).mean()[\"Price\"] ,2)\n",
    "GenderAveragePurchase = GenderAveragePurchase.rename(\"Gender Average Purchase Price\")\n",
    "# print(GenderAveragePurchase)\n",
    "\n",
    "# Total Purchase Value\n",
    "GenderTotalPurchaseValue = DataFrame_Orig.groupby([\"Gender\"]).sum()[\"Price\"]\n",
    "GenderTotalPurchaseValue = GenderTotalPurchaseValue.rename(\"Gender Total Purchase Value\")\n",
    "# print(GenderTotalPurchaseValue)\n",
    "\n",
    "# Normalized Totals - Average Total Purchase per Person\n",
    "GenderNormalizedTotals = round(GenderTotalPurchaseValue / Summary_GenderTotals[\"Gender Count\"] ,2)\n",
    "GenderNormalizedTotals = GenderNormalizedTotals.rename(\"Average Total Purchase Per Person\")\n",
    "# print(GenderNormalizedTotals)\n",
    "\n",
    "# Summary Data Frame\n",
    "Summary_GenderPurchasingAnalysis = pd.DataFrame({\"Gender Purchase Count\"                         : GenderPurchaseCount\n",
    "                                                ,\"Gender Avg Purchase Price\"                     : GenderAveragePurchase\n",
    "                                                ,\"Gender Total Purchase Value\"                   : GenderTotalPurchaseValue\n",
    "                                                ,\"Gender Avg Total Purchase/Person (Normalized)\" : GenderNormalizedTotals\n",
    "                                                })\n",
    "# Data Formatting\n",
    "Summary_GenderPurchasingAnalysis[\"Gender Avg Purchase Price\"] = Summary_GenderPurchasingAnalysis[\"Gender Avg Purchase Price\"].map(\"${:,.2f}\".format)\n",
    "Summary_GenderPurchasingAnalysis[\"Gender Total Purchase Value\"] = Summary_GenderPurchasingAnalysis[\"Gender Total Purchase Value\"].map(\"${:,.2f}\".format)\n",
    "Summary_GenderPurchasingAnalysis[\"Gender Avg Total Purchase/Person (Normalized)\"] = Summary_GenderPurchasingAnalysis[\"Gender Avg Total Purchase/Person (Normalized)\"].map(\"${:,.2f}\".format)\n",
    "Summary_GenderPurchasingAnalysis[\"Gender Purchase Count\"] = Summary_GenderPurchasingAnalysis[\"Gender Purchase Count\"].map(\"{:,}\".format)\n",
    "\n",
    "print(f'Summary: {Summary_GenderPurchasingAnalysis}')\n",
    "\n",
    "# Use Pandas to EXPORT CSV FILE as a csv file WITHOUT the Panda's Index WITH Header\n",
    "Summary_GenderPurchasingAnalysis.to_csv(\"Output/BP_output_GenderPurchasingAnalysis.csv\" ,encoding = \"utf-8\", index = False , header = True)"
   ]
  },
  {
   "cell_type": "markdown",
   "metadata": {},
   "source": [
    "## Age Demographics"
   ]
  },
  {
   "cell_type": "markdown",
   "metadata": {},
   "source": [
    "* Establish bins for ages\n",
    "\n",
    "\n",
    "* Categorize the existing players using the age bins. Hint: use pd.cut()\n",
    "\n",
    "\n",
    "* Calculate the numbers and percentages by age group\n",
    "\n",
    "\n",
    "* Create a summary data frame to hold the results\n",
    "\n",
    "\n",
    "* Optional: round the percentage column to two decimal points\n",
    "\n",
    "\n",
    "* Display Age Demographics Table\n"
   ]
  },
  {
   "cell_type": "code",
   "execution_count": 6,
   "metadata": {},
   "outputs": [
    {
     "name": "stdout",
     "output_type": "stream",
     "text": [
      "Summary:        Age Count  Age Percentage\n",
      "<10           23            3.99\n",
      "10-14         28            4.86\n",
      "15-19        136           23.61\n",
      "20-24        365           63.37\n",
      "25-29        101           17.53\n",
      "30-34         73           12.67\n",
      "35-39         41            7.12\n",
      "40+           13            2.26\n"
     ]
    }
   ],
   "source": [
    "### Age Demographics\n",
    "# * Percentage and Count  \n",
    "\n",
    "# Bins\n",
    "AgeBins = [0, 9.90, 14.90, 19.90, 24.90, 29.90, 34.90, 39.90, 99999]\n",
    "AgeBinLabels = [\"<10\", \"10-14\", \"15-19\", \"20-24\", \"25-29\", \"30-34\", \"35-39\", \"40+\"]\n",
    "\n",
    "# Categorize the players using the Age bins\n",
    "DataFrame_Orig[\"Age Range\"] = pd.cut(DataFrame_Orig[\"Age\"], AgeBins, labels = AgeBinLabels)\n",
    "# print(DataFrame_Orig.head())\n",
    "\n",
    "\n",
    "# Determine counts and percentages (similar to Gender Demographics)\n",
    "AgeTotals = DataFrame_Orig[\"Age Range\"].value_counts()\n",
    "# print(AgeTotals)\n",
    "\n",
    "AgePercentages = round((AgeTotals / CountPlayers) * 100 , 2)\n",
    "\n",
    "# Summary Data Frame\n",
    "Summary_AgeTotals = pd.DataFrame({\"Age Count\"      : AgeTotals\n",
    "                                 ,\"Age Percentage\" : AgePercentages\n",
    "                                 })\n",
    "\n",
    "Summary_AgeTotals = Summary_AgeTotals.sort_index()           \n",
    "\n",
    "print(f'Summary: {Summary_AgeTotals}')\n",
    "\n",
    "# Use Pandas to EXPORT CSV FILE as a csv file WITHOUT the Panda's Index WITH Header\n",
    "Summary_AgeTotals.to_csv(\"Output/BP_output_AgeDemographics.csv\" ,encoding = \"utf-8\", index = False , header = True)"
   ]
  },
  {
   "cell_type": "markdown",
   "metadata": {},
   "source": [
    "## Purchasing Analysis (Age)"
   ]
  },
  {
   "cell_type": "markdown",
   "metadata": {},
   "source": [
    "* Bin the purchase_data data frame by age\n",
    "\n",
    "\n",
    "* Run basic calculations to obtain purchase count, avg. purchase price, etc. in the table below\n",
    "\n",
    "\n",
    "* Calculate Normalized Purchasing\n",
    "\n",
    "\n",
    "* Create a summary data frame to hold the results\n",
    "\n",
    "\n",
    "* Optional: give the displayed data cleaner formatting\n",
    "\n",
    "\n",
    "* Display the summary data frame"
   ]
  },
  {
   "cell_type": "code",
   "execution_count": 7,
   "metadata": {},
   "outputs": [
    {
     "name": "stdout",
     "output_type": "stream",
     "text": [
      "Summary:           Age Purchase Count Age Avg Purchase Price Age Total Purchase Value  \\\n",
      "Age Range                                                                      \n",
      "<10                       23                  $3.35                   $77.13   \n",
      "10-14                     28                  $2.96                   $82.78   \n",
      "15-19                    136                  $3.04                  $412.89   \n",
      "20-24                    365                  $3.05                $1,114.06   \n",
      "25-29                    101                  $2.90                  $293.00   \n",
      "30-34                     73                  $2.93                  $214.00   \n",
      "35-39                     41                  $3.60                  $147.67   \n",
      "40+                       13                  $2.94                   $38.24   \n",
      "\n",
      "          Age Avg Total Purchase/Person (Normalized)  \n",
      "Age Range                                             \n",
      "<10                                            $3.35  \n",
      "10-14                                          $2.96  \n",
      "15-19                                          $3.04  \n",
      "20-24                                          $3.05  \n",
      "25-29                                          $2.90  \n",
      "30-34                                          $2.93  \n",
      "35-39                                          $3.60  \n",
      "40+                                            $2.94  \n"
     ]
    }
   ],
   "source": [
    "## Age Purchasing Analysis\n",
    "# * The below each broken into bins of 4 years (i.e. &lt;10, 10-14, 15-19, etc.)\n",
    "#   * Purchase Count\n",
    "#   * Average Purchase Price\n",
    "#   * Total Purchase Value\n",
    "#   * Normalized Totals\n",
    "\n",
    "\n",
    "# Bin all original data frame records\n",
    "DataFrame_Orig[\"Age Range\"] = pd.cut(DataFrame_Orig[\"Age\"], AgeBins, labels = AgeBinLabels)\n",
    "\n",
    "# Purchase Count\n",
    "AgePurchaseCount = DataFrame_Orig.groupby([\"Age Range\"]).count()[\"Price\"]\n",
    "AgePurchaseCount = AgePurchaseCount.rename(\"Age Purchase Count\")\n",
    "# print(AgePurchaseCount)\n",
    "\n",
    "# Average Purchase Price\n",
    "AgeAveragePurchase = round(DataFrame_Orig.groupby([\"Age Range\"]).mean()[\"Price\"] ,2)\n",
    "AgeAveragePurchase = round(DataFrame_Orig.groupby([\"Age Range\"]).mean()[\"Price\"] ,2)\n",
    "AgeAveragePurchase = AgeAveragePurchase.rename(\"Age Average Purchase Price\")\n",
    "# print(AgeAveragePurchase)\n",
    "\n",
    "# Total Purchase Value\n",
    "AgeTotalPurchaseValue = DataFrame_Orig.groupby([\"Age Range\"]).sum()[\"Price\"]\n",
    "AgeTotalPurchaseValue = AgeTotalPurchaseValue.rename(\"Age Total Purchase Value\")\n",
    "# print(AgeTotalPurchaseValue)\n",
    "\n",
    "# Normalized Totals - Average Total Purchase per Person\n",
    "AgeNormalizedTotals = round(AgeTotalPurchaseValue / Summary_AgeTotals[\"Age Count\"] ,2)\n",
    "AgeNormalizedTotals = AgeNormalizedTotals.rename(\"Average Total Purchase Per Person\")\n",
    "# print(AgeNormalizedTotals)\n",
    "\n",
    "# Summary Data Frame\n",
    "Summary_AgePurchasingAnalysis = pd.DataFrame({\"Age Purchase Count\"                         : AgePurchaseCount\n",
    "                                             ,\"Age Avg Purchase Price\"                     : AgeAveragePurchase\n",
    "                                             ,\"Age Total Purchase Value\"                   : AgeTotalPurchaseValue\n",
    "                                             ,\"Age Avg Total Purchase/Person (Normalized)\" : AgeNormalizedTotals\n",
    "                                             })\n",
    "# Data Formatting\n",
    "Summary_AgePurchasingAnalysis[\"Age Avg Purchase Price\"] = Summary_AgePurchasingAnalysis[\"Age Avg Purchase Price\"].map(\"${:,.2f}\".format)\n",
    "Summary_AgePurchasingAnalysis[\"Age Total Purchase Value\"] = Summary_AgePurchasingAnalysis[\"Age Total Purchase Value\"].map(\"${:,.2f}\".format)\n",
    "Summary_AgePurchasingAnalysis[\"Age Avg Total Purchase/Person (Normalized)\"] = Summary_AgePurchasingAnalysis[\"Age Avg Total Purchase/Person (Normalized)\"].map(\"${:,.2f}\".format)\n",
    "Summary_AgePurchasingAnalysis[\"Age Purchase Count\"] = Summary_AgePurchasingAnalysis[\"Age Purchase Count\"].map(\"{:,}\".format)\n",
    "\n",
    "print(f'Summary: {Summary_AgePurchasingAnalysis}')\n",
    "\n",
    "# Use Pandas to EXPORT CSV FILE as a csv file WITHOUT the Panda's Index WITH Header\n",
    "Summary_AgePurchasingAnalysis.to_csv(\"Output/BP_output_AgePurchasingAnalysis.csv\" ,encoding = \"utf-8\", index = False , header = True)"
   ]
  },
  {
   "cell_type": "markdown",
   "metadata": {},
   "source": [
    "## Top Spenders"
   ]
  },
  {
   "cell_type": "markdown",
   "metadata": {},
   "source": [
    "* Run basic calculations to obtain the results in the table below\n",
    "\n",
    "\n",
    "* Create a summary data frame to hold the results\n",
    "\n",
    "\n",
    "* Sort the total purchase value column in descending order\n",
    "\n",
    "\n",
    "* Optional: give the displayed data cleaner formatting\n",
    "\n",
    "\n",
    "* Display a preview of the summary data frame\n",
    "\n"
   ]
  },
  {
   "cell_type": "code",
   "execution_count": 8,
   "metadata": {},
   "outputs": [
    {
     "name": "stdout",
     "output_type": "stream",
     "text": [
      "Summary:             User Total Purchase Value User Avg Purchase Price  \\\n",
      "SN                                                              \n",
      "Lisosia93                      $18.96                   $3.79   \n",
      "Idastidru52                    $15.45                   $3.86   \n",
      "Chamjask73                     $13.83                   $4.61   \n",
      "Iral74                         $13.62                   $3.40   \n",
      "Iskadarya95                    $13.10                   $4.37   \n",
      "\n",
      "            User Purchase Count  \n",
      "SN                               \n",
      "Lisosia93                  5.00  \n",
      "Idastidru52                4.00  \n",
      "Chamjask73                 3.00  \n",
      "Iral74                     4.00  \n",
      "Iskadarya95                3.00  \n"
     ]
    }
   ],
   "source": [
    "### Top Spenders\n",
    "# * Identify the the top 5 spenders in the game by total purchase value, then list (in a table):\n",
    "#   * SN\n",
    "#   * Purchase Count\n",
    "#   * Average Purchase Price\n",
    "#   * Total Purchase Value\n",
    "\n",
    "# User Demographics\n",
    "UserTotal = DataFrame_Orig.groupby([\"SN\"]).sum()[\"Price\"]\n",
    "UserTotal = UserTotal.rename(\"User Total Purchase Value\")\n",
    "# print(UserTotal.head())\n",
    "\n",
    "UserAvg = DataFrame_Orig.groupby([\"SN\"]).mean()[\"Price\"]\n",
    "UserAvg = UserAvg.rename(\"User Average Purchase Value\")\n",
    "# print(UserAvg.head())\n",
    "\n",
    "UserCount = DataFrame_Orig.groupby([\"SN\"]).count()[\"Price\"]\n",
    "UserCount = UserCount.rename(\"User Purchase Count\")\n",
    "# print(UserCount.head())\n",
    "\n",
    "# Summary Data Frame\n",
    "Summary_UserTotals = pd.DataFrame({\"User Total Purchase Value\"  : UserTotal\n",
    "                                  ,\"User Avg Purchase Price\"    : UserAvg\n",
    "                                  ,\"User Purchase Count\"        : UserCount\n",
    "                                  })\n",
    "\n",
    "Summary_UserTotals = Summary_UserTotals.sort_values(\"User Total Purchase Value\" , ascending = False)                                \n",
    "\n",
    "# Data Formatting\n",
    "Summary_UserTotals[\"User Avg Purchase Price\"] = Summary_UserTotals[\"User Avg Purchase Price\"].map(\"${:,.2f}\".format)\n",
    "Summary_UserTotals[\"User Total Purchase Value\"] = Summary_UserTotals[\"User Total Purchase Value\"].map(\"${:,.2f}\".format)\n",
    "Summary_UserTotals[\"User Purchase Count\"] = Summary_UserTotals[\"User Purchase Count\"].map(\"{:,.2f}\".format)\n",
    "\n",
    "print(f'Summary: {Summary_UserTotals.head(5)}')\n",
    "\n",
    "# Use Pandas to EXPORT CSV FILE as a csv file WITHOUT the Panda's Index WITH Header\n",
    "Summary_UserTotals.head(5).to_csv(\"Output/BP_output_Top5Spenders.csv\" ,encoding = \"utf-8\", index = False , header = True)"
   ]
  },
  {
   "cell_type": "markdown",
   "metadata": {},
   "source": [
    "## Most Popular Items"
   ]
  },
  {
   "cell_type": "markdown",
   "metadata": {},
   "source": [
    "* Retrieve the Item ID, Item Name, and Item Price columns\n",
    "\n",
    "\n",
    "* Group by Item ID and Item Name. Perform calculations to obtain purchase count, item price, and total purchase value\n",
    "\n",
    "\n",
    "* Create a summary data frame to hold the results\n",
    "\n",
    "\n",
    "* Sort the purchase count column in descending order\n",
    "\n",
    "\n",
    "* Optional: give the displayed data cleaner formatting\n",
    "\n",
    "\n",
    "* Display a preview of the summary data frame\n",
    "\n"
   ]
  },
  {
   "cell_type": "code",
   "execution_count": 9,
   "metadata": {},
   "outputs": [
    {
     "name": "stdout",
     "output_type": "stream",
     "text": [
      "Summary:                                                      Item Total Purchase Value  \\\n",
      "Item ID Item Name                                                                \n",
      "178     Oathbreaker, Last Hope of the Breaking Storm                    $50.76   \n",
      "145     Fiery Glass Crusader                                            $41.22   \n",
      "108     Extraction, Quickblade Of Trembling Hands                       $31.77   \n",
      "82      Nirvana                                                         $44.10   \n",
      "19      Pursuit, Cudgel of Necromancy                                    $8.16   \n",
      "\n",
      "                                                     Item Avg Purchase Price  \\\n",
      "Item ID Item Name                                                              \n",
      "178     Oathbreaker, Last Hope of the Breaking Storm                   $4.23   \n",
      "145     Fiery Glass Crusader                                           $4.58   \n",
      "108     Extraction, Quickblade Of Trembling Hands                      $3.53   \n",
      "82      Nirvana                                                        $4.90   \n",
      "19      Pursuit, Cudgel of Necromancy                                  $1.02   \n",
      "\n",
      "                                                     Item Purchase Count  \n",
      "Item ID Item Name                                                         \n",
      "178     Oathbreaker, Last Hope of the Breaking Storm               12.00  \n",
      "145     Fiery Glass Crusader                                        9.00  \n",
      "108     Extraction, Quickblade Of Trembling Hands                   9.00  \n",
      "82      Nirvana                                                     9.00  \n",
      "19      Pursuit, Cudgel of Necromancy                               8.00  \n"
     ]
    }
   ],
   "source": [
    "### Most Popular Items\n",
    "# * Identify the 5 most profitable items by total purchase value, then list (in a table):\n",
    "#   * Item ID\n",
    "#   * Item Name\n",
    "#   * Purchase Count\n",
    "#   * Item Price\n",
    "#   * Total Purchase Value\n",
    "\n",
    "\n",
    "# Pull relevant Item columns into new Data Frame\n",
    "DF_Items = DataFrame_Orig.loc[: , [\"Item ID\" , \"Item Name\" , \"Price\"]]\n",
    "\n",
    "\n",
    "# Item Demographics\n",
    "ItemTotalPurchase = DF_Items.groupby([\"Item ID\" , \"Item Name\"]).sum()[\"Price\"]\n",
    "ItemTotalPurchase = ItemTotalPurchase.rename(\"Item Total Purchase Value\")\n",
    "# print(ItemTotalPurchase.head())\n",
    "\n",
    "ItemAvgPurchase = DF_Items.groupby([\"Item ID\" , \"Item Name\"]).mean()[\"Price\"]\n",
    "ItemAvgPurchase = ItemAvgPurchase.rename(\"Item Avg Purchase Value\")\n",
    "# print(ItemAvgPurchase.head())\n",
    "\n",
    "ItemCount = DF_Items.groupby([\"Item ID\" , \"Item Name\"]).count()[\"Price\"]\n",
    "ItemCount = ItemCount.rename(\"Item Purchase Count\")\n",
    "# print(ItemCount.head())\n",
    "\n",
    "# Summary Data Frame\n",
    "Summary_ItemTotals = pd.DataFrame({\"Item Total Purchase Value\"  : ItemTotalPurchase\n",
    "                                  ,\"Item Avg Purchase Price\"    : ItemAvgPurchase\n",
    "                                  ,\"Item Purchase Count\"        : ItemCount\n",
    "                                  })\n",
    "\n",
    "Summary_ItemTotals_MostPopular = Summary_ItemTotals.sort_values(\"Item Purchase Count\" , ascending = False)                                \n",
    "\n",
    "# Data Formatting\n",
    "Summary_ItemTotals_MostPopular[\"Item Avg Purchase Price\"] = Summary_ItemTotals_MostPopular[\"Item Avg Purchase Price\"].map(\"${:,.2f}\".format)\n",
    "Summary_ItemTotals_MostPopular[\"Item Total Purchase Value\"] = Summary_ItemTotals_MostPopular[\"Item Total Purchase Value\"].map(\"${:,.2f}\".format)\n",
    "Summary_ItemTotals_MostPopular[\"Item Purchase Count\"] = Summary_ItemTotals_MostPopular[\"Item Purchase Count\"].map(\"{:,.2f}\".format)\n",
    "\n",
    "print(f'Summary: {Summary_ItemTotals_MostPopular.head()}')\n",
    "\n",
    "# Use Pandas to EXPORT CSV FILE as a csv file WITHOUT the Panda's Index WITH Header\n",
    "Summary_ItemTotals_MostPopular.head(5).to_csv(\"Output/BP_output_Top5MostPopularItems.csv\" ,encoding = \"utf-8\", index = False , header = True)"
   ]
  },
  {
   "cell_type": "markdown",
   "metadata": {},
   "source": [
    "## Most Profitable Items"
   ]
  },
  {
   "cell_type": "markdown",
   "metadata": {},
   "source": [
    "* Sort the above table by total purchase value in descending order\n",
    "\n",
    "\n",
    "* Optional: give the displayed data cleaner formatting\n",
    "\n",
    "\n",
    "* Display a preview of the data frame\n",
    "\n"
   ]
  },
  {
   "cell_type": "code",
   "execution_count": 10,
   "metadata": {
    "scrolled": true
   },
   "outputs": [
    {
     "name": "stdout",
     "output_type": "stream",
     "text": [
      "Summary:                                                      Item Total Purchase Value  \\\n",
      "Item ID Item Name                                                                \n",
      "178     Oathbreaker, Last Hope of the Breaking Storm                    $50.76   \n",
      "82      Nirvana                                                         $44.10   \n",
      "145     Fiery Glass Crusader                                            $41.22   \n",
      "92      Final Critic                                                    $39.04   \n",
      "103     Singed Scalpel                                                  $34.80   \n",
      "\n",
      "                                                     Item Avg Purchase Price  \\\n",
      "Item ID Item Name                                                              \n",
      "178     Oathbreaker, Last Hope of the Breaking Storm                   $4.23   \n",
      "82      Nirvana                                                        $4.90   \n",
      "145     Fiery Glass Crusader                                           $4.58   \n",
      "92      Final Critic                                                   $4.88   \n",
      "103     Singed Scalpel                                                 $4.35   \n",
      "\n",
      "                                                     Item Purchase Count  \n",
      "Item ID Item Name                                                         \n",
      "178     Oathbreaker, Last Hope of the Breaking Storm               12.00  \n",
      "82      Nirvana                                                     9.00  \n",
      "145     Fiery Glass Crusader                                        9.00  \n",
      "92      Final Critic                                                8.00  \n",
      "103     Singed Scalpel                                              8.00  \n"
     ]
    }
   ],
   "source": [
    "### Most Profitable Items\n",
    "# * Identify the 5 most profitable items by total purchase value, then list (in a table):\n",
    "#   * Item ID\n",
    "#   * Item Name\n",
    "#   * Purchase Count\n",
    "#   * Item Price\n",
    "#   * Total Purchase Value\n",
    "\n",
    "\n",
    "Summary_ItemTotals_MostProfitable = Summary_ItemTotals.sort_values(\"Item Total Purchase Value\" , ascending = False)                                \n",
    "\n",
    "# Data Formatting\n",
    "Summary_ItemTotals_MostProfitable[\"Item Avg Purchase Price\"] = Summary_ItemTotals_MostProfitable[\"Item Avg Purchase Price\"].map(\"${:,.2f}\".format)\n",
    "Summary_ItemTotals_MostProfitable[\"Item Total Purchase Value\"] = Summary_ItemTotals_MostProfitable[\"Item Total Purchase Value\"].map(\"${:,.2f}\".format)\n",
    "Summary_ItemTotals_MostProfitable[\"Item Purchase Count\"] = Summary_ItemTotals_MostProfitable[\"Item Purchase Count\"].map(\"{:,.2f}\".format)\n",
    "\n",
    "print(f'Summary: {Summary_ItemTotals_MostProfitable.head()}')\n",
    "\n",
    "# Use Pandas to EXPORT CSV FILE as a csv file WITHOUT the Panda's Index WITH Header\n",
    "Summary_ItemTotals_MostProfitable.head(5).to_csv(\"Output/BP_output_Top5MostProfitableItems.csv\" ,encoding = \"utf-8\", index = False , header = True)"
   ]
  },
  {
   "cell_type": "markdown",
   "metadata": {},
   "source": [
    "## Analysis"
   ]
  },
  {
   "cell_type": "markdown",
   "metadata": {},
   "source": [
    "* The majority of players are male (84%).'\n",
    "\n",
    "* 63.37% of players are young adults in the age range of 20-24.\n",
    "\n",
    "* Oathbreaker, Last Hope of the Breaking Storm is both the most profitable and most popular game."
   ]
  },
  {
   "cell_type": "code",
   "execution_count": 11,
   "metadata": {},
   "outputs": [],
   "source": [
    "DF_FinalAnalysis = pd.DataFrame({\"Observation\" : [\"The majority of players are male (84%)\"\n",
    "                                             ,\"63.37% of players are young adults in the age range of 20-24\"\n",
    "                                             ,\"Oathbreaker, Last Hope of the Breaking Storm is both the most profitable and most popular game.\"]\n",
    "                           })\n",
    "\n",
    "# Use Pandas to EXPORT CSV FILE as a csv file WITHOUT the Panda's Index WITH Header\n",
    "DF_FinalAnalysis.to_csv(\"Output/BP_output_FinalObservations.csv\" ,encoding = \"utf-8\", index = False , header = True)"
   ]
  },
  {
   "cell_type": "code",
   "execution_count": null,
   "metadata": {},
   "outputs": [],
   "source": []
  }
 ],
 "metadata": {
  "anaconda-cloud": {},
  "kernel_info": {
   "name": "python3"
  },
  "kernelspec": {
   "display_name": "Python 3",
   "language": "python",
   "name": "python3"
  },
  "language_info": {
   "codemirror_mode": {
    "name": "ipython",
    "version": 3
   },
   "file_extension": ".py",
   "mimetype": "text/x-python",
   "name": "python",
   "nbconvert_exporter": "python",
   "pygments_lexer": "ipython3",
   "version": "3.6.5"
  },
  "nteract": {
   "version": "0.8.4"
  }
 },
 "nbformat": 4,
 "nbformat_minor": 1
}
