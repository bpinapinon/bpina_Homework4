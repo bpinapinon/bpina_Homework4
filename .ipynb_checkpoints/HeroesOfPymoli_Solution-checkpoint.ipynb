{
 "cells": [
  {
   "cell_type": "markdown",
   "metadata": {},
   "source": [
    "### Heroes Of Pymoli Data Analysis\n",
    "* Of the 1163 active players, the vast majority are male (84%). There also exists, a smaller, but notable proportion of female players (14%).\n",
    "\n",
    "* Our peak age demographic falls between 20-24 (44.8%) with secondary groups falling between 15-19 (18.60%) and 25-29 (13.4%).  \n",
    "-----"
   ]
  },
  {
   "cell_type": "code",
   "execution_count": null,
   "metadata": {},
   "outputs": [],
   "source": [
    "# Dependencies and Setup\n",
    "import pandas as pd\n",
    "import numpy as np\n",
    "\n",
    "# File to Load (Remember to Change These)\n",
    "file_to_load = \"Resources/purchase_data.csv\"\n",
    "\n",
    "# Read Purchasing File and store into Pandas data frame\n",
    "purchase_data = pd.read_csv(file_to_load)"
   ]
  },
  {
   "cell_type": "markdown",
   "metadata": {},
   "source": [
    "## Player Count"
   ]
  },
  {
   "cell_type": "code",
   "execution_count": null,
   "metadata": {},
   "outputs": [],
   "source": [
    "# Calculate the Number of Unique Players\n",
    "player_demographics = purchase_data.loc[:, [\"Gender\", \"SN\", \"Age\"]]\n",
    "num_players = player_demographics[\"SN\"].nunique()\n",
    "# Display the total number of players\n",
    "pd.DataFrame({\"Total Players\": [num_players]})"
   ]
  },
  {
   "cell_type": "markdown",
   "metadata": {},
   "source": [
    "## Purchasing Analysis (Total)"
   ]
  },
  {
   "cell_type": "code",
   "execution_count": null,
   "metadata": {
    "scrolled": true
   },
   "outputs": [],
   "source": [
    "# Run basic calculations\n",
    "average_item_price = purchase_data[\"Price\"].mean()\n",
    "total_purchase_value = purchase_data[\"Price\"].sum()\n",
    "purchase_count = purchase_data[\"Price\"].count()\n",
    "item_count = len(purchase_data[\"Item ID\"].unique())\n",
    "\n",
    "# Create a DataFrame to hold results\n",
    "summary_table = pd.DataFrame({\"Number of Unique Items\": item_count,\n",
    "                              \"Total Revenue\": [total_purchase_value],\n",
    "                              \"Number of Purchases\": [purchase_count],\n",
    "                              \"Average Price\": [average_item_price]})\n",
    "\n",
    "# Minor Data Munging\n",
    "# summary_table = summary_table.round(2)\n",
    "# summary_table [\"Average Price\"] = summary_table[\"Average Price\"].map(\"${:,.2f}\".format)\n",
    "# summary_table [\"Number of Purchases\"] = summary_table[\"Number of Purchases\"].map(\"{:,}\".format)\n",
    "# summary_table [\"Total Revenue\"] = summary_table[\"Total Revenue\"].map(\"${:,.2f}\".format)\n",
    "# summary_table = summary_table.loc[:,[\"Number of Unique Items\", \"Average Price\", \"Number of Purchases\", \"Total Revenue\"]]\n",
    "\n",
    "# Display the summary_table\n",
    "summary_table"
   ]
  },
  {
   "cell_type": "markdown",
   "metadata": {},
   "source": [
    "## Gender Demographics"
   ]
  },
  {
   "cell_type": "code",
   "execution_count": null,
   "metadata": {},
   "outputs": [],
   "source": [
    "# Calculate the Number and Percentage by Gender\n",
    "gender_demographics_totals = player_demographics[\"Gender\"].value_counts()\n",
    "gender_demographics_percents = gender_demographics_totals / num_players * 100\n",
    "gender_demographics = pd.DataFrame({\"Total Count\": gender_demographics_totals, \"Percentage of Players\": gender_demographics_percents})\n",
    "\n",
    "# Minor Data Munging\n",
    "gender_demographics = gender_demographics.round(2)\n",
    "\n",
    "gender_demographics"
   ]
  },
  {
   "cell_type": "markdown",
   "metadata": {},
   "source": [
    "\n",
    "## Purchasing Analysis (Gender)"
   ]
  },
  {
   "cell_type": "code",
   "execution_count": null,
   "metadata": {},
   "outputs": [],
   "source": [
    "# Run basic calculations\n",
    "gender_purchase_total = purchase_data.groupby([\"Gender\"]).sum()[\"Price\"].rename(\"Total Purchase Value\")\n",
    "gender_average = purchase_data.groupby([\"Gender\"]).mean()[\"Price\"].rename(\"Average Purchase Price\")\n",
    "gender_counts = purchase_data.groupby([\"Gender\"]).count()[\"Price\"].rename(\"Purchase Count\")\n",
    "\n",
    "# Calculate Normalized Purchasing (Average Total Purchase per Person)\n",
    "normalized_total = gender_purchase_total / gender_demographics[\"Total Count\"]\n",
    "\n",
    "# Convert to DataFrame\n",
    "gender_data = pd.DataFrame({\"Purchase Count\": gender_counts, \"Average Purchase Price\": gender_average, \"Total Purchase Value\": gender_purchase_total, \"Normalized Totals\": normalized_total})\n",
    "\n",
    "# Minor Data Munging\n",
    "gender_data[\"Average Purchase Price\"] = gender_data[\"Average Purchase Price\"].map(\"${:,.2f}\".format)\n",
    "gender_data[\"Total Purchase Value\"] = gender_data[\"Total Purchase Value\"].map(\"${:,.2f}\".format)\n",
    "gender_data [\"Purchase Count\"] = gender_data[\"Purchase Count\"].map(\"{:,}\".format)\n",
    "gender_data[\"Avg Total Purchase per Person\"] = gender_data[\"Normalized Totals\"].map(\"${:,.2f}\".format)\n",
    "gender_data = gender_data.loc[:, [\"Purchase Count\", \"Average Purchase Price\", \"Total Purchase Value\", \"Avg Total Purchase per Person\"]]\n",
    "\n",
    "# Display the Gender Table\n",
    "gender_data"
   ]
  },
  {
   "cell_type": "markdown",
   "metadata": {},
   "source": [
    "## Age Demographics"
   ]
  },
  {
   "cell_type": "code",
   "execution_count": null,
   "metadata": {},
   "outputs": [],
   "source": [
    "# Establish the bins \n",
    "age_bins = [0, 9.90, 14.90, 19.90, 24.90, 29.90, 34.90, 39.90, 99999]\n",
    "group_names = [\"<10\", \"10-14\", \"15-19\", \"20-24\", \"25-29\", \"30-34\", \"35-39\", \"40+\"]\n",
    "\n",
    "# Categorize the existing players using the age bins\n",
    "player_demographics[\"Age Ranges\"] = pd.cut(player_demographics[\"Age\"], age_bins, labels=group_names)\n",
    "\n",
    "# Calculate the Numbers and Percentages by Age Group\n",
    "age_demographics_totals = player_demographics[\"Age Ranges\"].value_counts()\n",
    "age_demographics_percents = age_demographics_totals / num_players * 100\n",
    "age_demographics = pd.DataFrame({\"Total Count\": age_demographics_totals, \"Percentage of Players\": age_demographics_percents})\n",
    "\n",
    "# Minor Data Munging\n",
    "age_demographics = age_demographics.round(2)\n",
    "\n",
    "# Display Age Demographics Table\n",
    "age_demographics.sort_index()"
   ]
  },
  {
   "cell_type": "markdown",
   "metadata": {},
   "source": [
    "## Purchasing Analysis (Age)"
   ]
  },
  {
   "cell_type": "code",
   "execution_count": null,
   "metadata": {},
   "outputs": [],
   "source": [
    "# Bin the Purchasing Data\n",
    "purchase_data[\"Age Ranges\"] = pd.cut(purchase_data[\"Age\"], age_bins, labels=group_names)\n",
    "\n",
    "# Run basic calculations\n",
    "age_purchase_total = purchase_data.groupby([\"Age Ranges\"]).sum()[\"Price\"].rename(\"Total Purchase Value\")\n",
    "age_average = purchase_data.groupby([\"Age Ranges\"]).mean()[\"Price\"].rename(\"Average Purchase Price\")\n",
    "age_counts = purchase_data.groupby([\"Age Ranges\"]).count()[\"Price\"].rename(\"Purchase Count\")\n",
    "\n",
    "# Calculate Normalized Purchasing (Average Purchase Total per Person)\n",
    "normalized_total = age_purchase_total / age_demographics[\"Total Count\"]\n",
    "\n",
    "# Convert to DataFrame\n",
    "age_data = pd.DataFrame({\"Purchase Count\": age_counts, \"Average Purchase Price\": age_average, \"Total Purchase Value\": age_purchase_total, \"Normalized Totals\": normalized_total})\n",
    "\n",
    "# Minor Data Munging\n",
    "age_data[\"Average Purchase Price\"] = age_data[\"Average Purchase Price\"].map(\"${:,.2f}\".format)\n",
    "age_data[\"Total Purchase Value\"] = age_data[\"Total Purchase Value\"].map(\"${:,.2f}\".format)\n",
    "age_data [\"Purchase Count\"] = age_data[\"Purchase Count\"].map(\"{:,}\".format)\n",
    "age_data[\"Avg Total Purchase per Person\"] = age_data[\"Normalized Totals\"].map(\"${:,.2f}\".format)\n",
    "age_data = age_data.loc[:, [\"Purchase Count\", \"Average Purchase Price\", \"Total Purchase Value\", \"Avg Total Purchase per Person\"]]\n",
    "\n",
    "# Display the Age Table\n",
    "age_data"
   ]
  },
  {
   "cell_type": "markdown",
   "metadata": {},
   "source": [
    "## Top Spenders"
   ]
  },
  {
   "cell_type": "code",
   "execution_count": null,
   "metadata": {},
   "outputs": [],
   "source": [
    "# Basic Calculations\n",
    "user_total = purchase_data.groupby([\"SN\"]).sum()[\"Price\"].rename(\"Total Purchase Value\")\n",
    "user_average = purchase_data.groupby([\"SN\"]).mean()[\"Price\"].rename(\"Average Purchase Price\")\n",
    "user_count = purchase_data.groupby([\"SN\"]).count()[\"Price\"].rename(\"Purchase Count\")\n",
    "\n",
    "# Convert to DataFrame\n",
    "user_data = pd.DataFrame({\"Total Purchase Value\": user_total, \"Average Purchase Price\": user_average, \"Purchase Count\": user_count})\n",
    "\n",
    "# Display Table\n",
    "user_sorted = user_data.sort_values(\"Total Purchase Value\", ascending=False)\n",
    "\n",
    "# Minor Data Munging\n",
    "user_sorted[\"Average Purchase Price\"] = user_sorted[\"Average Purchase Price\"].map(\"${:,.2f}\".format)\n",
    "user_sorted[\"Total Purchase Value\"] = user_sorted[\"Total Purchase Value\"].map(\"${:,.2f}\".format)\n",
    "user_sorted = user_sorted.loc[:,[\"Purchase Count\", \"Average Purchase Price\", \"Total Purchase Value\"]]\n",
    "\n",
    "# Display DataFrame\n",
    "user_sorted.head(5)"
   ]
  },
  {
   "cell_type": "markdown",
   "metadata": {},
   "source": [
    "## Most Popular Items"
   ]
  },
  {
   "cell_type": "code",
   "execution_count": null,
   "metadata": {},
   "outputs": [],
   "source": [
    "# Extract item Data\n",
    "item_data = purchase_data.loc[:,[\"Item ID\", \"Item Name\", \"Price\"]]\n",
    "\n",
    "# Perform basic calculations\n",
    "total_item_purchase = item_data.groupby([\"Item ID\", \"Item Name\"]).sum()[\"Price\"].rename(\"Total Purchase Value\")\n",
    "average_item_purchase = item_data.groupby([\"Item ID\", \"Item Name\"]).mean()[\"Price\"]\n",
    "item_count = item_data.groupby([\"Item ID\", \"Item Name\"]).count()[\"Price\"].rename(\"Purchase Count\")\n",
    "\n",
    "# Create new DataFrame\n",
    "item_data_pd = pd.DataFrame({\"Total Purchase Value\": total_item_purchase, \"Item Price\": average_item_purchase, \"Purchase Count\": item_count})\n",
    "\n",
    "# Sort Values\n",
    "item_data_count_sorted = item_data_pd.sort_values(\"Purchase Count\", ascending=False)\n",
    "\n",
    "# Minor Data Munging\n",
    "item_data_count_sorted[\"Item Price\"] = item_data_count_sorted[\"Item Price\"].map(\"${:,.2f}\".format)\n",
    "item_data_count_sorted[\"Purchase Count\"] = item_data_count_sorted[\"Purchase Count\"].map(\"{:,}\".format)\n",
    "item_data_count_sorted[\"Total Purchase Value\"] = item_data_count_sorted[\"Total Purchase Value\"].map(\"${:,.2f}\".format)\n",
    "item_popularity = item_data_count_sorted.loc[:,[\"Purchase Count\", \"Item Price\", \"Total Purchase Value\"]]\n",
    "\n",
    "item_popularity.head(5)"
   ]
  },
  {
   "cell_type": "markdown",
   "metadata": {},
   "source": [
    "## Most Profitable Items"
   ]
  },
  {
   "cell_type": "code",
   "execution_count": null,
   "metadata": {
    "scrolled": true
   },
   "outputs": [],
   "source": [
    "# Item Table (Sorted by Total Purchase Value)\n",
    "item_total_purchase = item_data_pd.sort_values(\"Total Purchase Value\", ascending=False)\n",
    "\n",
    "# Minor Data Munging\n",
    "item_total_purchase[\"Item Price\"] = item_total_purchase[\"Item Price\"].map(\"${:,.2f}\".format)\n",
    "item_total_purchase[\"Purchase Count\"] = item_total_purchase[\"Purchase Count\"].map(\"{:,}\".format)\n",
    "item_total_purchase[\"Total Purchase Value\"] = item_total_purchase[\"Total Purchase Value\"].map(\"${:,.2f}\".format)\n",
    "item_profitable = item_total_purchase.loc[:,[\"Purchase Count\", \"Item Price\", \"Total Purchase Value\"]]\n",
    "\n",
    "item_profitable.head(5)"
   ]
  },
  {
   "cell_type": "code",
   "execution_count": null,
   "metadata": {},
   "outputs": [],
   "source": []
  }
 ],
 "metadata": {
  "anaconda-cloud": {},
  "kernel_info": {
   "name": "python3"
  },
  "kernelspec": {
   "display_name": "Python 3",
   "language": "python",
   "name": "python3"
  },
  "language_info": {
   "codemirror_mode": {
    "name": "ipython",
    "version": 3
   },
   "file_extension": ".py",
   "mimetype": "text/x-python",
   "name": "python",
   "nbconvert_exporter": "python",
   "pygments_lexer": "ipython3",
   "version": "3.6.5"
  },
  "nteract": {
   "version": "0.8.4"
  }
 },
 "nbformat": 4,
 "nbformat_minor": 1
}
